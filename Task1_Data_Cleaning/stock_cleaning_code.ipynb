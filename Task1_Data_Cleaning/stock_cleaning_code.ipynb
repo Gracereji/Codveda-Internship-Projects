{
  "nbformat": 4,
  "nbformat_minor": 0,
  "metadata": {
    "colab": {
      "provenance": []
    },
    "kernelspec": {
      "name": "python3",
      "display_name": "Python 3"
    },
    "language_info": {
      "name": "python"
    }
  },
  "cells": [
    {
      "cell_type": "code",
      "execution_count": 8,
      "metadata": {
        "colab": {
          "base_uri": "https://localhost:8080/"
        },
        "id": "28qlx8MnjXpT",
        "outputId": "4b111b98-61ec-4be3-fd0e-d87333a08f27"
      },
      "outputs": [
        {
          "output_type": "stream",
          "name": "stdout",
          "text": [
            "<class 'pandas.core.frame.DataFrame'>\n",
            "RangeIndex: 497472 entries, 0 to 497471\n",
            "Data columns (total 7 columns):\n",
            " #   Column  Non-Null Count   Dtype  \n",
            "---  ------  --------------   -----  \n",
            " 0   symbol  497472 non-null  object \n",
            " 1   date    497472 non-null  object \n",
            " 2   open    497461 non-null  float64\n",
            " 3   high    497464 non-null  float64\n",
            " 4   low     497464 non-null  float64\n",
            " 5   close   497472 non-null  float64\n",
            " 6   volume  497472 non-null  int64  \n",
            "dtypes: float64(4), int64(1), object(2)\n",
            "memory usage: 26.6+ MB\n",
            "Shape of dataset: (497472, 7)\n",
            "Duplicate rows: 0\n",
            "<class 'pandas.core.frame.DataFrame'>\n",
            "RangeIndex: 497472 entries, 0 to 497471\n",
            "Data columns (total 7 columns):\n",
            " #   Column  Non-Null Count   Dtype         \n",
            "---  ------  --------------   -----         \n",
            " 0   symbol  497472 non-null  object        \n",
            " 1   date    497472 non-null  datetime64[ns]\n",
            " 2   open    497461 non-null  float64       \n",
            " 3   high    497464 non-null  float64       \n",
            " 4   low     497464 non-null  float64       \n",
            " 5   close   497472 non-null  float64       \n",
            " 6   volume  497472 non-null  int64         \n",
            "dtypes: datetime64[ns](1), float64(4), int64(1), object(1)\n",
            "memory usage: 26.6+ MB\n"
          ]
        }
      ],
      "source": [
        "import pandas as pd\n",
        "\n",
        "# Load the uploaded file\n",
        "df = pd.read_csv(\"/content/Stock Prices Data Set.csv\")\n",
        "\n",
        "# Display first 5 rows\n",
        "df.head()\n",
        "# View basic info\n",
        "df.info()\n",
        "\n",
        "# View summary stats for numeric columns\n",
        "df.describe()\n",
        "\n",
        "# Check shape\n",
        "print(\"Shape of dataset:\", df.shape)\n",
        "# Count missing values in each column\n",
        "df.isnull().sum()\n",
        "# Example: Fill missing 'Price' with median\n",
        "if 'Price' in df.columns:\n",
        "    df['Price'] = df['Price'].fillna(df['Price'].median())\n",
        "\n",
        "# Example: Fill missing 'Symbol' with 'Unknown'\n",
        "df['symbol'] = df['symbol'].fillna('Unknown')\n",
        "# Check for duplicates\n",
        "print(\"Duplicate rows:\", df.duplicated().sum())\n",
        "\n",
        "# Remove them\n",
        "df = df.drop_duplicates()\n",
        "df['date'] = pd.to_datetime(df['date'], errors='coerce')\n",
        "df['symbol'] = df['symbol'].str.upper()\n",
        "df.info()\n",
        "df.head()\n",
        "df.to_csv(\"Stock_Prices_Cleaned.csv\", index=False)\n",
        "# Fill missing values with the median of each column\n",
        "df['open'] = df['open'].fillna(df['open'].median())\n",
        "df['high'] = df['high'].fillna(df['high'].median())\n",
        "df['low'] = df['low'].fillna(df['low'].median())\n",
        "df.isnull().sum()\n",
        "df.to_csv(\"Stock_Prices_Cleaned.csv\", index=False)\n"
      ]
    }
  ]
}